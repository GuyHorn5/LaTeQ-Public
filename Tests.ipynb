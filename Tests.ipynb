{
   "cells": [
      {
         "cell_type": "code",
         "execution_count": 1,
         "metadata": {},
         "outputs": [],
         "source": [
            "import numpy as np\n",
            "import sympy as sp\n",
            "import matplotlib.pyplot as plt\n",
            "import sys\n",
            "from IPython.display import display, Markdown, Latex\n",
            "\n",
            "import Main as LaTeQ \n",
            "\n",
            "j = 1j\n",
            "e = np.e\n",
            "# locals().update(LaTeQ.lateq(milon=locals(), var=f'', eq=f'', copy=False, auto_units=True, units=None, eng=True, phasor=False, two_lines=True, declare=False, fin_ans=False, temp=0, out='Markdown'))"
         ]
      },
      {
         "attachments": {},
         "cell_type": "markdown",
         "metadata": {},
         "source": [
            "<div dir=auto>\n",
            "\t<center> <h1> Tests </h1> </center>\n",
            "</div>"
         ]
      },
      {
         "cell_type": "code",
         "execution_count": 2,
         "metadata": {},
         "outputs": [],
         "source": [
            "a = 1\n",
            "b = 2"
         ]
      },
      {
         "attachments": {},
         "cell_type": "markdown",
         "metadata": {},
         "source": [
            "## Basic Tests"
         ]
      },
      {
         "cell_type": "code",
         "execution_count": 3,
         "metadata": {},
         "outputs": [
            {
               "data": {
                  "text/markdown": [
                     "$$val = 1$$"
                  ],
                  "text/plain": [
                     "<IPython.core.display.Markdown object>"
                  ]
               },
               "metadata": {},
               "output_type": "display_data"
            },
            {
               "data": {
                  "text/markdown": [
                     "\\begin{align*}c & = a + b \\\\\\ & = \\left( 1 \\right) + \\left( 2 \\right) \\\\ & = 3\\end{align*}"
                  ],
                  "text/plain": [
                     "<IPython.core.display.Markdown object>"
                  ]
               },
               "metadata": {},
               "output_type": "display_data"
            }
         ],
         "source": [
            "# normal\n",
            "locals().update(LaTeQ.lateq(milon=locals(), var=f'val', eq=f'1', copy=False, auto_units=False, units=None, eng=True, phasor=False, two_lines=True, declare=False, fin_ans=False, temp=0, out='Markdown'))\n",
            "locals().update(LaTeQ.lateq(milon=locals(), var=f'c', eq=f'a+b', copy=False, auto_units=True, units=None, eng=True, phasor=False, two_lines=True, declare=False, fin_ans=False, temp=0, out='Markdown'))"
         ]
      },
      {
         "attachments": {},
         "cell_type": "markdown",
         "metadata": {},
         "source": [
            "## Units"
         ]
      },
      {
         "cell_type": "code",
         "execution_count": 4,
         "metadata": {},
         "outputs": [
            {
               "data": {
                  "text/markdown": [
                     "\\begin{align*}V_{0} & = a\\\\ & = \\left( 1 \\right) \\\\ & = 1 \\left[V\\right]\\end{align*}"
                  ],
                  "text/plain": [
                     "<IPython.core.display.Markdown object>"
                  ]
               },
               "metadata": {},
               "output_type": "display_data"
            },
            {
               "data": {
                  "text/markdown": [
                     "\\begin{align*}V_{0} & = a\\\\ & = \\left( 1 \\right) \\\\ & = 1 \\left[A\\right]\\end{align*}"
                  ],
                  "text/plain": [
                     "<IPython.core.display.Markdown object>"
                  ]
               },
               "metadata": {},
               "output_type": "display_data"
            },
            {
               "data": {
                  "text/markdown": [
                     "\\begin{align*}val & = 5 \\left[\\mho\\right]\\end{align*}"
                  ],
                  "text/plain": [
                     "<IPython.core.display.Markdown object>"
                  ]
               },
               "metadata": {},
               "output_type": "display_data"
            }
         ],
         "source": [
            "locals().update(LaTeQ.lateq(milon=locals(), var=f'V_0', eq=f'a', copy=False, auto_units=True, units=None, eng=True, phasor=False, two_lines=True, declare=False, fin_ans=False, temp=0, out='Markdown'))\n",
            "locals().update(LaTeQ.lateq(milon=locals(), var=f'V_0', eq=f'a', copy=False, auto_units=False, units='A', eng=True, phasor=False, two_lines=True, declare=False, fin_ans=False, temp=0, out='Markdown'))\n",
            "locals().update(LaTeQ.lateq(milon=locals(), var=f'val', eq=f'5', copy=False, auto_units=False, units='mho', eng=True, phasor=False, two_lines=True, declare=False, fin_ans=False, temp=0, out='Markdown'))"
         ]
      },
      {
         "attachments": {},
         "cell_type": "markdown",
         "metadata": {},
         "source": [
            "## Engineering Notation\n",
            "### auto units work only for (-12) <"
         ]
      },
      {
         "cell_type": "code",
         "execution_count": 14,
         "metadata": {},
         "outputs": [
            {
               "data": {
                  "text/markdown": [
                     "\\begin{align*}V_{0} & = \\frac{a}{10^{15}} \\\\\\ & = \\frac{\\left( 1 \\right)}{10^{15}} \\\\ & = 10^{-15}\\end{align*}"
                  ],
                  "text/plain": [
                     "<IPython.core.display.Markdown object>"
                  ]
               },
               "metadata": {},
               "output_type": "display_data"
            },
            {
               "data": {
                  "text/markdown": [
                     "\\begin{align*}V_{0} & = \\frac{a}{10^{12}} \\\\\\ & = \\frac{\\left( 1 \\right)}{10^{12}} \\\\ & = 10^{-12}\\end{align*}"
                  ],
                  "text/plain": [
                     "<IPython.core.display.Markdown object>"
                  ]
               },
               "metadata": {},
               "output_type": "display_data"
            },
            {
               "data": {
                  "text/markdown": [
                     "\\begin{align*}V_{0} & = a \\cdot 2 \\cdot \\frac{1}{10^{12}}\\\\ & = \\left( 1 \\right) \\cdot 2 \\cdot \\frac{1}{10^{12}} \\\\ & = 2\\cdot10^{-12} \\left[V\\right] \\\\ & = 2 \\left[pV\\right]\\end{align*}"
                  ],
                  "text/plain": [
                     "<IPython.core.display.Markdown object>"
                  ]
               },
               "metadata": {},
               "output_type": "display_data"
            },
            {
               "data": {
                  "text/markdown": [
                     "\\begin{align*}V_{0} & = \\frac{a}{10^{9}}\\\\ & = \\frac{\\left( 1 \\right)}{10^{9}} \\\\ & = 10^{-9} \\left[V\\right] \\\\ & = 1 \\left[nV\\right]\\end{align*}"
                  ],
                  "text/plain": [
                     "<IPython.core.display.Markdown object>"
                  ]
               },
               "metadata": {},
               "output_type": "display_data"
            },
            {
               "data": {
                  "text/markdown": [
                     "\\begin{align*}V_{0} & = \\frac{a}{10^{6}}\\\\ & = \\frac{\\left( 1 \\right)}{10^{6}} \\\\ & = 10^{-6} \\left[V\\right] \\\\ & = 1 \\left[μV\\right]\\end{align*}"
                  ],
                  "text/plain": [
                     "<IPython.core.display.Markdown object>"
                  ]
               },
               "metadata": {},
               "output_type": "display_data"
            },
            {
               "data": {
                  "text/markdown": [
                     "\\begin{align*}V_{0} & = \\frac{a}{10^{3}}\\\\ & = \\frac{\\left( 1 \\right)}{10^{3}} \\\\ & = 10^{-3} \\left[V\\right] \\\\ & = 1 \\left[mV\\right]\\end{align*}"
                  ],
                  "text/plain": [
                     "<IPython.core.display.Markdown object>"
                  ]
               },
               "metadata": {},
               "output_type": "display_data"
            },
            {
               "data": {
                  "text/markdown": [
                     "\\begin{align*}V_{0} & = 10^{3} \\cdot a\\\\ & = 10^{3} \\cdot \\left( 1 \\right) \\\\ & = 10^{3} \\left[V\\right] \\\\ & = 1 \\left[kV\\right]\\end{align*}"
                  ],
                  "text/plain": [
                     "<IPython.core.display.Markdown object>"
                  ]
               },
               "metadata": {},
               "output_type": "display_data"
            },
            {
               "data": {
                  "text/markdown": [
                     "\\begin{align*}V_{0} & = 10^{6} \\cdot a\\\\ & = 10^{6} \\cdot \\left( 1 \\right) \\\\ & = 10^{6} \\left[V\\right] \\\\ & = 1 \\left[MV\\right]\\end{align*}"
                  ],
                  "text/plain": [
                     "<IPython.core.display.Markdown object>"
                  ]
               },
               "metadata": {},
               "output_type": "display_data"
            },
            {
               "data": {
                  "text/markdown": [
                     "\\begin{align*}V_{0} & = 10^{9} \\cdot a\\\\ & = 10^{9} \\cdot \\left( 1 \\right) \\\\ & = 10^{9} \\left[V\\right] \\\\ & = 1 \\left[GV\\right]\\end{align*}"
                  ],
                  "text/plain": [
                     "<IPython.core.display.Markdown object>"
                  ]
               },
               "metadata": {},
               "output_type": "display_data"
            },
            {
               "data": {
                  "text/markdown": [
                     "\\begin{align*}V_{0} & = 10^{12} \\cdot a\\\\ & = 10^{12} \\cdot \\left( 1 \\right) \\\\ & = 10^{12} \\left[V\\right] \\\\ & = 1 \\left[TV\\right]\\end{align*}"
                  ],
                  "text/plain": [
                     "<IPython.core.display.Markdown object>"
                  ]
               },
               "metadata": {},
               "output_type": "display_data"
            },
            {
               "data": {
                  "text/markdown": [
                     "\\begin{align*}V_{0} & = 10^{15} \\cdot a\\\\ & = 10^{15} \\cdot \\left( 1 \\right) \\\\ & = 10^{15} \\left[V\\right]\\end{align*}"
                  ],
                  "text/plain": [
                     "<IPython.core.display.Markdown object>"
                  ]
               },
               "metadata": {},
               "output_type": "display_data"
            }
         ],
         "source": [
            "locals().update(LaTeQ.lateq(milon=locals(), var=f'V_0', eq=f'a / 10 ** 15', copy=False, auto_units=False, units=None, eng=True, phasor=False, two_lines=True, declare=False, fin_ans=False, temp=0, out='Markdown'))\n",
            "locals().update(LaTeQ.lateq(milon=locals(), var=f'V_0', eq=f'a  / 10 ** 12', copy=False, auto_units=False, units=None, eng=True, phasor=False, two_lines=True, declare=False, fin_ans=False, temp=0, out='Markdown'))\n",
            "locals().update(LaTeQ.lateq(milon=locals(), var=f'V_0', eq=f'a * 2 / 10 ** 12', copy=False, auto_units=True, units=None, eng=True, phasor=False, two_lines=True, declare=False, fin_ans=False, temp=0, out='Markdown'))\n",
            "locals().update(LaTeQ.lateq(milon=locals(), var=f'V_0', eq=f'a / 10 ** 9', copy=False, auto_units=True, units=None, eng=True, phasor=False, two_lines=True, declare=False, fin_ans=False, temp=0, out='Markdown'))\n",
            "locals().update(LaTeQ.lateq(milon=locals(), var=f'V_0', eq=f'a / 10 ** 6', copy=False, auto_units=True, units=None, eng=True, phasor=False, two_lines=True, declare=False, fin_ans=False, temp=0, out='Markdown'))\n",
            "locals().update(LaTeQ.lateq(milon=locals(), var=f'V_0', eq=f'a / 10 ** 3', copy=False, auto_units=True, units=None, eng=True, phasor=False, two_lines=True, declare=False, fin_ans=False, temp=0, out='Markdown'))\n",
            "locals().update(LaTeQ.lateq(milon=locals(), var=f'V_0', eq=f'a * 10 ** 3', copy=False, auto_units=True, units=None, eng=True, phasor=False, two_lines=True, declare=False, fin_ans=False, temp=0, out='Markdown'))\n",
            "locals().update(LaTeQ.lateq(milon=locals(), var=f'V_0', eq=f'a * 10 ** 6', copy=False, auto_units=True, units=None, eng=True, phasor=False, two_lines=True, declare=False, fin_ans=False, temp=0, out='Markdown'))\n",
            "locals().update(LaTeQ.lateq(milon=locals(), var=f'V_0', eq=f'a * 10 ** 9', copy=False, auto_units=True, units=None, eng=True, phasor=False, two_lines=True, declare=False, fin_ans=False, temp=0, out='Markdown'))\n",
            "locals().update(LaTeQ.lateq(milon=locals(), var=f'V_0', eq=f'a * 10 ** 12', copy=False, auto_units=True, units=None, eng=True, phasor=False, two_lines=True, declare=False, fin_ans=False, temp=0, out='Markdown'))\n",
            "locals().update(LaTeQ.lateq(milon=locals(), var=f'V_0', eq=f'a * 10 ** 15', copy=False, auto_units=True, units=None, eng=True, phasor=False, two_lines=True, declare=False, fin_ans=False, temp=0, out='Markdown'))"
         ]
      },
      {
         "attachments": {},
         "cell_type": "markdown",
         "metadata": {},
         "source": [
            "## Phasor\n",
            "### phasor, units, & eng do not work together"
         ]
      },
      {
         "cell_type": "code",
         "execution_count": 6,
         "metadata": {},
         "outputs": [
            {
               "data": {
                  "text/markdown": [
                     "\\begin{align*}val & = j + 1 \\\\\\ & = \\left( \\left(1∢{90}°\\right) \\right) + 1 \\\\ & = \\left(1.414∢{45}°\\right)\\end{align*}"
                  ],
                  "text/plain": [
                     "<IPython.core.display.Markdown object>"
                  ]
               },
               "metadata": {},
               "output_type": "display_data"
            },
            {
               "data": {
                  "text/markdown": [
                     "\\begin{align*}val & = 1 - j \\\\\\ & = 1 - \\left( \\left(1∢{90}°\\right) \\right) \\\\ & = \\left(1.414∢{-45}°\\right)\\end{align*}"
                  ],
                  "text/plain": [
                     "<IPython.core.display.Markdown object>"
                  ]
               },
               "metadata": {},
               "output_type": "display_data"
            },
            {
               "data": {
                  "text/markdown": [
                     "\\begin{align*}val & = j + 1\\\\ & = \\left( \\left(1∢{90}°\\right) \\right) + 1 \\\\ & = \\left(1.414∢{45}°\\right) \\left[V\\right]\\end{align*}"
                  ],
                  "text/plain": [
                     "<IPython.core.display.Markdown object>"
                  ]
               },
               "metadata": {},
               "output_type": "display_data"
            },
            {
               "data": {
                  "text/markdown": [
                     "\\begin{align*}val & = 1 - j\\\\ & = 1 - \\left( \\left(1∢{90}°\\right) \\right) \\\\ & = \\left(1.414∢{-45}°\\right) \\left[V\\right]\\end{align*}"
                  ],
                  "text/plain": [
                     "<IPython.core.display.Markdown object>"
                  ]
               },
               "metadata": {},
               "output_type": "display_data"
            }
         ],
         "source": [
            "locals().update(LaTeQ.lateq(milon=locals(), var=f'val', eq=f'1 + j', copy=False, auto_units=False, units=None, eng=True, phasor=True, two_lines=True, declare=False, fin_ans=False, temp=0, out='Markdown'))\n",
            "locals().update(LaTeQ.lateq(milon=locals(), var=f'val', eq=f'1 - j', copy=False, auto_units=False, units=None, eng=True, phasor=True, two_lines=True, declare=False, fin_ans=False, temp=0, out='Markdown'))\n",
            "locals().update(LaTeQ.lateq(milon=locals(), var=f'val', eq=f'1 + j', copy=False, auto_units=True, units=None, eng=False, phasor=True, two_lines=True, declare=False, fin_ans=False, temp=0, out='Markdown'))\n",
            "locals().update(LaTeQ.lateq(milon=locals(), var=f'val', eq=f'1 - j', copy=False, auto_units=True, units=None, eng=False, phasor=True, two_lines=True, declare=False, fin_ans=False, temp=0, out='Markdown'))"
         ]
      },
      {
         "attachments": {},
         "cell_type": "markdown",
         "metadata": {},
         "source": [
            "## Two Lines"
         ]
      },
      {
         "cell_type": "code",
         "execution_count": 7,
         "metadata": {},
         "outputs": [
            {
               "data": {
                  "text/markdown": [
                     "\\begin{align*}val & = a \\cdot b \\\\\\ & = \\left( 1 \\right) \\cdot \\left( 2 \\right) \\\\ & = 2\\end{align*}"
                  ],
                  "text/plain": [
                     "<IPython.core.display.Markdown object>"
                  ]
               },
               "metadata": {},
               "output_type": "display_data"
            },
            {
               "data": {
                  "text/markdown": [
                     "$$val = a \\cdot b = \\left( 1 \\right) \\cdot \\left( 2 \\right) = 2$$"
                  ],
                  "text/plain": [
                     "<IPython.core.display.Markdown object>"
                  ]
               },
               "metadata": {},
               "output_type": "display_data"
            }
         ],
         "source": [
            "locals().update(LaTeQ.lateq(milon=locals(), var=f'val', eq=f'a * b', copy=False, auto_units=False, units=None, eng=True, phasor=False, two_lines=True, declare=False, fin_ans=False, temp=0, out='Markdown'))\n",
            "locals().update(LaTeQ.lateq(milon=locals(), var=f'val', eq=f'a * b', copy=False, auto_units=False, units=None, eng=True, phasor=False, two_lines=False, declare=False, fin_ans=False, temp=0, out='Markdown'))"
         ]
      },
      {
         "attachments": {},
         "cell_type": "markdown",
         "metadata": {},
         "source": [
            "## Declare"
         ]
      },
      {
         "cell_type": "code",
         "execution_count": 8,
         "metadata": {},
         "outputs": [
            {
               "data": {
                  "text/markdown": [
                     "\\begin{align*}val & = 2 \\left[V\\right]\\end{align*}"
                  ],
                  "text/plain": [
                     "<IPython.core.display.Markdown object>"
                  ]
               },
               "metadata": {},
               "output_type": "display_data"
            }
         ],
         "source": [
            "locals().update(LaTeQ.lateq(milon=locals(), var=f'val', eq=f'', copy=False, auto_units=True, units=None, eng=True, phasor=False, two_lines=True, declare=True, fin_ans=False, temp=0, out='Markdown'))"
         ]
      },
      {
         "attachments": {},
         "cell_type": "markdown",
         "metadata": {},
         "source": [
            "## Final Answer"
         ]
      },
      {
         "cell_type": "code",
         "execution_count": 13,
         "metadata": {},
         "outputs": [
            {
               "data": {
                  "text/markdown": [
                     "\\begin{align*}val & = a \\cdot 2 \\\\ & = \\left( 1 \\right) \\cdot 2 \\\\ & = 2\\\\ ⇒ &\\boxed{val = 2}\\end{align*}"
                  ],
                  "text/plain": [
                     "<IPython.core.display.Markdown object>"
                  ]
               },
               "metadata": {},
               "output_type": "display_data"
            },
            {
               "data": {
                  "text/markdown": [
                     "\\begin{align*}val & = a \\cdot 2 \\\\ & = \\left( 1 \\right) \\cdot 2 \\\\ & = 2\\\\ ⇒ &\\boxed{val = 2}\\end{align*}"
                  ],
                  "text/plain": [
                     "<IPython.core.display.Markdown object>"
                  ]
               },
               "metadata": {},
               "output_type": "display_data"
            }
         ],
         "source": [
            "locals().update(LaTeQ.lateq(milon=locals(), var=f'val', eq=f'a * 2', copy=False, auto_units=False, units=None, eng=True, phasor=False, two_lines=True, declare=False, fin_ans=True, temp=0, out='Markdown'))\n",
            "locals().update(LaTeQ.lateq(milon=locals(), var=f'val', eq=f'a * 2', copy=False, auto_units=False, units=None, eng=True, phasor=False, two_lines=True, declare=False, fin_ans=True, temp=0, out='Markdown'))"
         ]
      },
      {
         "attachments": {},
         "cell_type": "markdown",
         "metadata": {},
         "source": [
            "## Temp Calc"
         ]
      },
      {
         "cell_type": "code",
         "execution_count": 10,
         "metadata": {},
         "outputs": [
            {
               "data": {
                  "text/markdown": [
                     "$$ a \\cdot \\frac{1}{b} \\cdot 3 = \\left( 1 \\right) \\cdot \\frac{1}{\\left( 2 \\right)} \\cdot 3 = 1.5 \\left[V\\right]$$"
                  ],
                  "text/plain": [
                     "<IPython.core.display.Markdown object>"
                  ]
               },
               "metadata": {},
               "output_type": "display_data"
            },
            {
               "data": {
                  "text/markdown": [
                     "\\begin{align*} & a \\cdot \\frac{1}{b} \\cdot 3\\\\ & = \\left( 1 \\right) \\cdot \\frac{1}{\\left( 2 \\right)} \\cdot 3 \\\\ & = 1.5 \\left[V\\right]\\end{align*}"
                  ],
                  "text/plain": [
                     "<IPython.core.display.Markdown object>"
                  ]
               },
               "metadata": {},
               "output_type": "display_data"
            },
            {
               "data": {
                  "text/markdown": [
                     "\\begin{align*}\\frac{val_{1}}{val_{2}} & = \\frac{1}{2} \\cdot 3 \\\\ & = 1.5 \\left[V\\right]\\end{align*}"
                  ],
                  "text/plain": [
                     "<IPython.core.display.Markdown object>"
                  ]
               },
               "metadata": {},
               "output_type": "display_data"
            }
         ],
         "source": [
            "locals().update(LaTeQ.lateq(milon=locals(), var=f'val', eq=f'a/b*3', copy=False, auto_units=True, units=None, eng=True, phasor=False, two_lines=False, declare=False, fin_ans=False, temp=1, out='Markdown'))\n",
            "locals().update(LaTeQ.lateq(milon=locals(), var=f'val', eq=f'a/b*3', copy=False, auto_units=True, units=None, eng=True, phasor=False, two_lines=True, declare=False, fin_ans=False, temp=1, out='Markdown'))\n",
            "locals().update(LaTeQ.lateq(milon=locals(), var=f'val_1/val_2', eq=f'1/2*3', copy=False, auto_units=True, units=None, eng=True, phasor=False, two_lines=True, declare=False, fin_ans=False, temp=2, out='Markdown'))"
         ]
      },
      {
         "attachments": {},
         "cell_type": "markdown",
         "metadata": {},
         "source": [
            "## Symbols"
         ]
      },
      {
         "attachments": {},
         "cell_type": "markdown",
         "metadata": {},
         "source": [
            "## Matrices"
         ]
      },
      {
         "attachments": {},
         "cell_type": "markdown",
         "metadata": {},
         "source": [
            "## Numpy"
         ]
      },
      {
         "cell_type": "code",
         "execution_count": 11,
         "metadata": {},
         "outputs": [
            {
               "data": {
                  "text/markdown": [
                     "\\begin{align*}val & = \\cos{\\left(0 \\right)} \\\\ & = 1 \\left[V\\right]\\end{align*}"
                  ],
                  "text/plain": [
                     "<IPython.core.display.Markdown object>"
                  ]
               },
               "metadata": {},
               "output_type": "display_data"
            }
         ],
         "source": [
            "locals().update(LaTeQ.lateq(milon=locals(), var=f'val', eq=f'np.cos(0)', copy=False, auto_units=True, units=None, eng=True, phasor=False, two_lines=True, declare=False, fin_ans=False, temp=0, out='Markdown'))"
         ]
      },
      {
         "attachments": {},
         "cell_type": "markdown",
         "metadata": {},
         "source": [
            "## Negative Power"
         ]
      },
      {
         "attachments": {},
         "cell_type": "markdown",
         "metadata": {},
         "source": [
            "### does not work well, just divide by the number instead"
         ]
      },
      {
         "cell_type": "code",
         "execution_count": 12,
         "metadata": {},
         "outputs": [
            {
               "data": {
                  "text/markdown": [
                     "\\begin{align*}val & = \\frac{2}{10^{6}} \\\\ & = 2\\cdot10^{-6} \\left[V\\right] \\\\ & = 2 \\left[μV\\right]\\end{align*}"
                  ],
                  "text/plain": [
                     "<IPython.core.display.Markdown object>"
                  ]
               },
               "metadata": {},
               "output_type": "display_data"
            }
         ],
         "source": [
            "locals().update(LaTeQ.lateq(milon=locals(), var=f'val', eq=f'2 / 10 ** 6', copy=False, auto_units=True, units=None, eng=True, phasor=False, two_lines=True, declare=False, fin_ans=False, temp=0, out='Markdown'))"
         ]
      },
      {
         "attachments": {},
         "cell_type": "markdown",
         "metadata": {},
         "source": [
            "## Fix"
         ]
      }
   ],
   "metadata": {
      "kernelspec": {
         "display_name": "Python 3.10.8 64-bit",
         "language": "python",
         "name": "python3"
      },
      "language_info": {
         "codemirror_mode": {
            "name": "ipython",
            "version": 3
         },
         "file_extension": ".py",
         "mimetype": "text/x-python",
         "name": "python",
         "nbconvert_exporter": "python",
         "pygments_lexer": "ipython3",
         "version": "3.11.3"
      },
      "orig_nbformat": 4,
      "vscode": {
         "interpreter": {
            "hash": "e7370f93d1d0cde622a1f8e1c04877d8463912d04d973331ad4851f04de6915a"
         }
      }
   },
   "nbformat": 4,
   "nbformat_minor": 2
}
